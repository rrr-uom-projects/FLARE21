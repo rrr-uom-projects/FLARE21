{
 "cells": [
  {
   "cell_type": "code",
   "execution_count": 1,
   "source": [
    "import torch\n",
    "from fvcore.nn.flop_count import FlopCountAnalysis\n",
    "from models import yolo_transpose_plusplus, fullRes_segmenter, superres_segmenter, yolo_segmenter, asym_bottleneck_yolo_segmenter, bottleneck_yolo_segmenter, asymmetric_yolo_segmenter, tiny_segmenter, nano_segmenter, tiny_attention_segmenter, tiny_attention_deepsup_segmenter\n",
    "# light_segmenter, yolo_segmenter, bottleneck_yolo_segmenter, asymmetric_yolo_segmenter, asym_bottleneck_yolo_segmenter, \n",
    "# bridged_yolo_segmenter, yolo_transpose, ytp_learnableWL \n",
    "from roughSeg.utils import get_number_of_learnable_parameters"
   ],
   "outputs": [],
   "metadata": {}
  },
  {
   "cell_type": "code",
   "execution_count": 3,
   "source": [
    "model = yolo_transpose_plusplus(n_classes=7, in_channels=2, p_drop=0)\n",
    "print(\"params: \", get_number_of_learnable_parameters(model))\n",
    "inputs = (torch.randn((1,2,96,256,256)),)\n",
    "flops = FlopCountAnalysis(model, inputs)\n",
    "print(a := flops.total())\n",
    "model = tiny_attention_segmenter(n_classes=6, in_channels=2, p_drop=0, depth_stride=1)\n",
    "print(\"params: \", get_number_of_learnable_parameters(model))\n",
    "inputs = (torch.randn((1,2,96,192,192)),)\n",
    "flops = FlopCountAnalysis(model, inputs)\n",
    "print(b := flops.total())\n",
    "model = nano_segmenter(n_classes=6, in_channels=2, p_drop=0)\n",
    "print(\"params: \", get_number_of_learnable_parameters(model))\n",
    "inputs = (torch.randn((1,2,96,192,192)),)\n",
    "flops = FlopCountAnalysis(model, inputs)\n",
    "print(b := flops.total())"
   ],
   "outputs": [
    {
     "output_type": "stream",
     "name": "stdout",
     "text": [
      "params:  6722327\n"
     ]
    },
    {
     "output_type": "stream",
     "name": "stderr",
     "text": [
      "Unsupported operator aten::feature_dropout encountered 1 time(s)\n",
      "Unsupported operator aten::feature_dropout_ encountered 20 time(s)\n",
      "Unsupported operator aten::add encountered 8 time(s)\n",
      "Unsupported operator aten::max_pool3d encountered 3 time(s)\n"
     ]
    },
    {
     "output_type": "stream",
     "name": "stdout",
     "text": [
      "925006823424\n",
      "params:  530230\n"
     ]
    },
    {
     "output_type": "stream",
     "name": "stderr",
     "text": [
      "Unsupported operator aten::feature_dropout encountered 1 time(s)\n",
      "Unsupported operator aten::feature_dropout_ encountered 36 time(s)\n",
      "Unsupported operator aten::add encountered 11 time(s)\n",
      "Unsupported operator aten::max_pool3d encountered 3 time(s)\n",
      "Unsupported operator aten::sigmoid encountered 3 time(s)\n",
      "Unsupported operator aten::mul encountered 3 time(s)\n"
     ]
    },
    {
     "output_type": "stream",
     "name": "stdout",
     "text": [
      "79719358464\n",
      "params:  436982\n"
     ]
    },
    {
     "output_type": "stream",
     "name": "stderr",
     "text": [
      "Unsupported operator aten::feature_dropout encountered 1 time(s)\n",
      "Unsupported operator aten::feature_dropout_ encountered 36 time(s)\n",
      "Unsupported operator aten::add encountered 8 time(s)\n",
      "Unsupported operator aten::max_pool3d encountered 3 time(s)\n"
     ]
    },
    {
     "output_type": "stream",
     "name": "stdout",
     "text": [
      "48076222464\n"
     ]
    }
   ],
   "metadata": {}
  },
  {
   "cell_type": "code",
   "execution_count": 4,
   "source": [
    "print(b / 590861472000)"
   ],
   "outputs": [
    {
     "output_type": "stream",
     "name": "stdout",
     "text": [
      "0.08136631806651289\n"
     ]
    }
   ],
   "metadata": {}
  },
  {
   "cell_type": "code",
   "execution_count": 5,
   "source": [
    "b/a"
   ],
   "outputs": [
    {
     "output_type": "execute_result",
     "data": {
      "text/plain": [
       "0.05197391116104563"
      ]
     },
     "metadata": {},
     "execution_count": 5
    }
   ],
   "metadata": {}
  }
 ],
 "metadata": {
  "interpreter": {
   "hash": "d13269c35f3e47b8981fdf8d4dc99b059bba4b764541eb1bb5c81ca8e229db53"
  },
  "kernelspec": {
   "display_name": "Python 3.8.10 64-bit ('eds_dl_env': venv)",
   "name": "python3"
  },
  "language_info": {
   "codemirror_mode": {
    "name": "ipython",
    "version": 3
   },
   "file_extension": ".py",
   "mimetype": "text/x-python",
   "name": "python",
   "nbconvert_exporter": "python",
   "pygments_lexer": "ipython3",
   "version": "3.8.10"
  },
  "orig_nbformat": 4
 },
 "nbformat": 4,
 "nbformat_minor": 2
}